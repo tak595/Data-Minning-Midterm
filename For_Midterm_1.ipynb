{
  "nbformat": 4,
  "nbformat_minor": 0,
  "metadata": {
    "colab": {
      "name": "For Midterm 1",
      "provenance": [],
      "authorship_tag": "ABX9TyNkY7UhxEDBHFiPds4VdOgR",
      "include_colab_link": true
    },
    "kernelspec": {
      "name": "python3",
      "display_name": "Python 3"
    },
    "language_info": {
      "name": "python"
    }
  },
  "cells": [
    {
      "cell_type": "markdown",
      "metadata": {
        "id": "view-in-github",
        "colab_type": "text"
      },
      "source": [
        "<a href=\"https://colab.research.google.com/github/tak595/Data-Minning-Midterm/blob/main/For_Midterm_1.ipynb\" target=\"_parent\"><img src=\"https://colab.research.google.com/assets/colab-badge.svg\" alt=\"Open In Colab\"/></a>"
      ]
    },
    {
      "cell_type": "code",
      "metadata": {
        "colab": {
          "base_uri": "https://localhost:8080/",
          "height": 282
        },
        "id": "6cz6EXq0YFDh",
        "outputId": "a34a7a4e-44ad-4c1e-d396-299ce162dcc0"
      },
      "source": [
        "import numpy as np\n",
        "from sklearn.linear_model import LinearRegression\n",
        "import matplotlib as mp\n",
        "\n",
        "x = np.random.rand(100)\n",
        "x = x.reshape(-1,1)\n",
        "y = np.random.rand(100)\n",
        "y = y.reshape(-1,1)\n",
        "\n",
        "mp.pyplot.scatter(x,y)\n",
        "\n",
        "xy_model = LinearRegression().fit(x,y)\n",
        "xy_model.score(x,y)\n",
        "\n",
        "modeled_y = xy_model.predict(x)\n",
        "mp.pyplot.plot(x,modeled_y)\n"
      ],
      "execution_count": 1,
      "outputs": [
        {
          "output_type": "execute_result",
          "data": {
            "text/plain": [
              "[<matplotlib.lines.Line2D at 0x7fefc2f12ad0>]"
            ]
          },
          "metadata": {},
          "execution_count": 1
        },
        {
          "output_type": "display_data",
          "data": {
            "image/png": "[encoded data removed]",
            "text/plain": [
              "<Figure size 432x288 with 1 Axes>"
            ]
          },
          "metadata": {
            "needs_background": "light"
          }
        }
      ]
    }
  ]
}